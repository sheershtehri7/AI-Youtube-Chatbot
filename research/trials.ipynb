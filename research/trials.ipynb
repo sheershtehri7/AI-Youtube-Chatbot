{
 "cells": [
  {
   "cell_type": "code",
   "execution_count": 3,
   "id": "30005539",
   "metadata": {},
   "outputs": [
    {
     "ename": "AttributeError",
     "evalue": "type object 'YouTubeTranscriptApi' has no attribute 'get_transcripts'",
     "output_type": "error",
     "traceback": [
      "\u001b[31m---------------------------------------------------------------------------\u001b[39m",
      "\u001b[31mAttributeError\u001b[39m                            Traceback (most recent call last)",
      "\u001b[36mCell\u001b[39m\u001b[36m \u001b[39m\u001b[32mIn[3]\u001b[39m\u001b[32m, line 7\u001b[39m\n\u001b[32m      3\u001b[39m video_id = \u001b[33m\"\u001b[39m\u001b[33m3JZ_D3ELwOQ\u001b[39m\u001b[33m\"\u001b[39m\n\u001b[32m      5\u001b[39m \u001b[38;5;28;01mtry\u001b[39;00m:\n\u001b[32m      6\u001b[39m     \u001b[38;5;66;03m# get_transcripts exists in 1.2.2\u001b[39;00m\n\u001b[32m----> \u001b[39m\u001b[32m7\u001b[39m     transcript_data = \u001b[43mYouTubeTranscriptApi\u001b[49m\u001b[43m.\u001b[49m\u001b[43mget_transcripts\u001b[49m([video_id])\n\u001b[32m      8\u001b[39m     \u001b[38;5;66;03m# transcript_data is a dict: {video_id: [{text, start, duration}, ...]}\u001b[39;00m\n\u001b[32m      9\u001b[39m     transcript_list = transcript_data[video_id]\n",
      "\u001b[31mAttributeError\u001b[39m: type object 'YouTubeTranscriptApi' has no attribute 'get_transcripts'"
     ]
    }
   ],
   "source": [
    "from youtube_transcript_api import YouTubeTranscriptApi, TranscriptsDisabled\n",
    "\n",
    "video_id = \"3JZ_D3ELwOQ\"\n",
    "\n",
    "try:\n",
    "    # get_transcripts exists in 1.2.2\n",
    "    transcript_data = YouTubeTranscriptApi.get_transcripts([video_id])\n",
    "    # transcript_data is a dict: {video_id: [{text, start, duration}, ...]}\n",
    "    transcript_list = transcript_data[video_id]\n",
    "    transcript = \" \".join([t['text'] for t in transcript_list])\n",
    "    print(transcript[:500])\n",
    "except TranscriptsDisabled:\n",
    "    print(\"No transcript available\")\n"
   ]
  }
 ],
 "metadata": {
  "kernelspec": {
   "display_name": "venv (3.13.7)",
   "language": "python",
   "name": "python3"
  },
  "language_info": {
   "codemirror_mode": {
    "name": "ipython",
    "version": 3
   },
   "file_extension": ".py",
   "mimetype": "text/x-python",
   "name": "python",
   "nbconvert_exporter": "python",
   "pygments_lexer": "ipython3",
   "version": "3.13.7"
  }
 },
 "nbformat": 4,
 "nbformat_minor": 5
}
